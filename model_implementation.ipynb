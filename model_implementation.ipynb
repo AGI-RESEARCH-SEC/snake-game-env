{
 "cells": [
  {
   "cell_type": "code",
   "execution_count": 1,
   "metadata": {},
   "outputs": [
    {
     "name": "stdout",
     "output_type": "stream",
     "text": [
      "Prediction: ['right']\n"
     ]
    },
    {
     "name": "stderr",
     "output_type": "stream",
     "text": [
      "c:\\Users\\AIXI\\anaconda3\\envs\\agentenv\\lib\\site-packages\\sklearn\\base.py:348: InconsistentVersionWarning: Trying to unpickle estimator LogisticRegression from version 1.2.2 when using version 1.3.2. This might lead to breaking code or invalid results. Use at your own risk. For more info please refer to:\n",
      "https://scikit-learn.org/stable/model_persistence.html#security-maintainability-limitations\n",
      "  warnings.warn(\n"
     ]
    }
   ],
   "source": [
    "import numpy as np\n",
    "# Loading the model\n",
    "import pickle\n",
    "with open(\"models/logistic_regression_model_random.pkl\",'rb') as f:\n",
    "  loaded_model=pickle.load(f)\n",
    "\n",
    "# Example usage to predict a new instance\n",
    "new_instance = np.array([0.6, 0.48, 0.030012, 'up'][:3])\n",
    "prediction = loaded_model.predict([new_instance])\n",
    "print(f\"Prediction: {prediction}\")"
   ]
  },
  {
   "cell_type": "code",
   "execution_count": 3,
   "metadata": {},
   "outputs": [],
   "source": [
    "maze= [[0, 0, 0, 1, 0, 1, 0, 0, 0, 1, 0, 0, 0, 0, 0, 1, 0, 0, 0, 0, 1, 1, 0, 0, 0], [1, 1, 0, 0, 0, 0, 1, 1, 0, 0, 1, 0, 1, 1, 0, 1, 1, 0, 1, 1, 0, 0, 0, 1, 0], [0, 1, 1, 0, 1, 0, 0, 0, 0, 1, 0, 1, 0, 0, 0, 0, 1, 0, 0, 0, 1, 0, 1, 1, 0], [0, 0, 0, 1, 1, 1, 0, 1, 1, 1, 0, 0, 1, 0, 1, 0, 0, 1, 1, 0, 0, 0, 1, 0, 1], [0, 1, 1, 0, 1, 0, 0, 0, 0, 0, 0, 1, 0, 1, 0, 0, 1, 0, 1, 0, 1, 0, 0, 0, 0], [0, 1, 0, 0, 0, 1, 0, 1, 0, 1, 1, 0, 0, 0, 0, 0, 0, 0, 0, 0, 0, 1, 1, 1, 0], [0, 0, 1, 1, 0, 0, 0, 0, 1, 0, 0, 1, 0, 1, 0, 0, 1, 1, 1, 1, 0, 0, 0, 0, 0], [0, 1, 0, 0, 1, 0, 1, 0, 1, 1, 0, 0, 0, 1, 1, 0, 0, 0, 0, 0, 1, 0, 1, 1, 0], [0, 0, 0, 1, 0, 1, 0, 0, 0, 0, 1, 0, 1, 0, 1, 0, 1, 0, 1, 0, 1, 1, 0, 0, 0], [1, 0, 1, 0, 0, 0, 1, 0, 0, 0, 0, 0, 1, 0, 0, 0, 1, 0, 1, 1, 0, 0, 0, 1, 0], [0, 0, 0, 0, 1, 0, 0, 1, 0, 1, 0, 1, 0, 0, 1, 0, 0, 1, 0, 0, 1, 1, 0, 0, 0], [0, 1, 0, 1, 0, 1, 0, 0, 0, 0, 0, 0, 1, 1, 0, 0, 1, 0, 1, 0, 0, 0, 0, 1, 0], [1, 0, 0, 1, 0, 1, 0, 1, 0, 1, 1, 0, 0, 1, 1, 0, 0, 0, 0, 1, 0, 1, 0, 0, 0], [1, 0, 1, 0, 0, 0, 1, 0, 1, 0, 0, 0, 1, 0, 0, 1, 0, 1, 1, 0, 1, 0, 0, 1, 0], [0, 1, 0, 1, 1, 0, 0, 0, 0, 1, 1, 0, 1, 0, 1, 0, 0, 0, 1, 0, 0, 1, 0, 0, 0], [0, 0, 0, 1, 0, 0, 1, 1, 0, 1, 0, 0, 0, 0, 1, 0, 1, 1, 0, 0, 1, 0, 0, 1, 0], [1, 0, 1, 0, 1, 0, 0, 0, 1, 0, 0, 1, 1, 1, 0, 0, 0, 1, 1, 0, 0, 1, 0, 0, 0], [0, 0, 0, 0, 0, 0, 1, 0, 0, 1, 0, 0, 0, 1, 1, 0, 1, 0, 1, 1, 0, 1, 1, 0, 0], [0, 1, 0, 1, 0, 1, 1, 1, 0, 0, 1, 1, 0, 0, 0, 0, 0, 0, 0, 0, 0, 0, 0, 0, 0], [1, 0, 1, 0, 0, 1, 1, 0, 1, 0, 1, 0, 0, 1, 0, 1, 0, 1, 1, 0, 1, 1, 0, 1, 0], [0, 0, 0, 0, 1, 0, 0, 0, 0, 0, 0, 0, 1, 0, 1, 0, 1, 0, 0, 1, 0, 0, 0, 0, 0], [1, 1, 1, 1, 1, 1, 0, 1, 0, 1, 0, 1, 0, 0, 0, 0, 0, 0, 1, 0, 0, 1, 1, 0, 0], [0, 0, 0, 0, 1, 0, 0, 0, 1, 0, 0, 0, 0, 1, 0, 1, 0, 1, 0, 0, 1, 1, 0, 0, 0], [0, 1, 1, 0, 0, 1, 1, 1, 0, 1, 0, 1, 0, 0, 1, 0, 0, 0, 1, 0, 1, 0, 0, 1, 0], [0, 0, 0, 1, 0, 0, 0, 0, 0, 0, 0, 1, 0, 1, 0, 0, 1, 0, 0, 1, 0, 0, 1, 1, 0]]"
   ]
  },
  {
   "cell_type": "code",
   "execution_count": 21,
   "metadata": {},
   "outputs": [
    {
     "data": {
      "text/plain": [
       "[(22, 24), (24, 24)]"
      ]
     },
     "execution_count": 21,
     "metadata": {},
     "output_type": "execute_result"
    }
   ],
   "source": [
    "import random\n",
    "actions = ['left', 'right', 'up', 'down']\n",
    "\n",
    "def move(maze, position, action):\n",
    "    '''\n",
    "        returns co-ordinate of new position\n",
    "    '''\n",
    "    row, col = position\n",
    "    if action == 'left' and col > 0 and maze[row][col - 1] == 0:\n",
    "        return (row, col - 1)\n",
    "    elif action == 'right' and col < len(maze[0]) - 1 and maze[row][col + 1] == 0:\n",
    "        return (row, col + 1)\n",
    "    elif action == 'up' and row > 0 and maze[row - 1][col] == 0:\n",
    "        return (row - 1, col)\n",
    "    elif action == 'down' and row < len(maze) - 1 and maze[row + 1][col] == 0:\n",
    "        return (row + 1, col)\n",
    "    else:\n",
    "        return position\n",
    "\n",
    "def get_valid_actions(maze, current_position):\n",
    "    '''\n",
    "        returns list of valid actions\n",
    "    '''\n",
    "    valid_actions = []\n",
    "    for action in actions:\n",
    "        new_position = move(maze, current_position, action)\n",
    "        if new_position != current_position:\n",
    "            valid_actions.append(action)\n",
    "    return valid_actions\n",
    "\n",
    "def move(maze, current_position, direction):\n",
    "    '''\n",
    "    Move to the next position in the maze based on the current position and direction.\n",
    "\n",
    "    Parameters:\n",
    "    maze (list of lists): The maze represented as a 2D list.\n",
    "    current_position (tuple): The current position in the maze as a tuple (x, y).\n",
    "    direction (str): The direction of movement ('up', 'down', 'left', 'right').\n",
    "\n",
    "    Returns:\n",
    "    tuple: The new position in the maze after moving in the specified direction.\n",
    "    '''\n",
    "    x, y = current_position\n",
    "    if direction == \"up\":\n",
    "        x -= 1\n",
    "    elif direction == \"down\":\n",
    "        x += 1\n",
    "    elif direction == \"left\":\n",
    "        y -= 1\n",
    "    elif direction == \"right\":\n",
    "        y += 1\n",
    "    # Check if the new position is within the bounds of the maze\n",
    "    if 0 <= x < len(maze) and 0 <= y < len(maze[0]) and maze[x][y] != 1:  # Assuming 1 represents a wall\n",
    "        return (x, y)\n",
    "    else:\n",
    "        # Return the original position if the move is not valid\n",
    "        return current_position\n",
    "\n",
    "current_position = (23,24)\n",
    "# possible_directions = [\"left\", \"right\", \"up\", \"down\"]\n",
    "directions = get_valid_actions(maze, current_position)\n",
    "\n",
    "next = [move(maze, current_position, d) for d in directions]\n",
    "next\n",
    "# for d in directions:\n",
    "#     next_position = move(maze, current_position, d)\n",
    "#     print(f'\\n\\ncurrent:{current_position} \\n next_position:{next_position} \\n direction:{d}')"
   ]
  },
  {
   "cell_type": "code",
   "execution_count": 19,
   "metadata": {},
   "outputs": [],
   "source": [
    "def get_random_valid_position(maze):\n",
    "    '''\n",
    "        returns random position in maze whose value is 0 (0 is path)\n",
    "    '''\n",
    "    valid_positions = [(i, j) for i in range(len(maze)) for j in range(len(maze[0])) if maze[i][j] == 0]\n",
    "    return random.choice(valid_positions) if valid_positions else None"
   ]
  },
  {
   "cell_type": "code",
   "execution_count": 22,
   "metadata": {},
   "outputs": [
    {
     "name": "stdout",
     "output_type": "stream",
     "text": [
      "[(0.5, 0.48), (0.5, 0.52)]\n"
     ]
    }
   ],
   "source": [
    "from pre_process import PreProcess\n",
    "while True:\n",
    "    destination = get_random_valid_position(maze)\n",
    "    while current_position != destination:\n",
    "        current_position = get_random_valid_position(maze)\n",
    "    # possible_directions = [\"left\", \"right\", \"up\", \"down\"]\n",
    "    \n",
    "    directions = get_valid_actions(maze, current_position)\n",
    "    next_coordinates = [move(maze, current_position, d) for d in directions]\n",
    "    next_vector_coordinates = [PreProcess.vector_representation(maze, current_position, next) for next in next_coordinates]\n",
    "    distances = [PreProcess.euclidean_distance(next, destination) for next in next_coordinates]\n",
    "    print(next_vector_coordinates)"
   ]
  }
 ],
 "metadata": {
  "kernelspec": {
   "display_name": "agentenv",
   "language": "python",
   "name": "python3"
  },
  "language_info": {
   "codemirror_mode": {
    "name": "ipython",
    "version": 3
   },
   "file_extension": ".py",
   "mimetype": "text/x-python",
   "name": "python",
   "nbconvert_exporter": "python",
   "pygments_lexer": "ipython3",
   "version": "3.10.11"
  }
 },
 "nbformat": 4,
 "nbformat_minor": 2
}
