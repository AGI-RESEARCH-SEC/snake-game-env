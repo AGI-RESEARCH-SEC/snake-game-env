{
 "cells": [
  {
   "cell_type": "code",
   "execution_count": 11,
   "metadata": {},
   "outputs": [
    {
     "ename": "ValueError",
     "evalue": "node array from the pickle has an incompatible dtype:\n- expected: {'names': ['left_child', 'right_child', 'feature', 'threshold', 'impurity', 'n_node_samples', 'weighted_n_node_samples', 'missing_go_to_left'], 'formats': ['<i8', '<i8', '<i8', '<f8', '<f8', '<i8', '<f8', 'u1'], 'offsets': [0, 8, 16, 24, 32, 40, 48, 56], 'itemsize': 64}\n- got     : [('left_child', '<i8'), ('right_child', '<i8'), ('feature', '<i8'), ('threshold', '<f8'), ('impurity', '<f8'), ('n_node_samples', '<i8'), ('weighted_n_node_samples', '<f8')]",
     "output_type": "error",
     "traceback": [
      "\u001b[0;31m---------------------------------------------------------------------------\u001b[0m",
      "\u001b[0;31mValueError\u001b[0m                                Traceback (most recent call last)",
      "Cell \u001b[0;32mIn[11], line 8\u001b[0m\n\u001b[1;32m      4\u001b[0m \u001b[38;5;66;03m# with open(\"models/logistic_regression_model_random.pkl\",'rb') as f:\u001b[39;00m\n\u001b[1;32m      5\u001b[0m \u001b[38;5;66;03m#   loaded_model=pickle.load(f)\u001b[39;00m\n\u001b[1;32m      7\u001b[0m \u001b[38;5;28;01mwith\u001b[39;00m \u001b[38;5;28mopen\u001b[39m(\u001b[38;5;124m\"\u001b[39m\u001b[38;5;124mmodels/decision_tree_model_random.pkl\u001b[39m\u001b[38;5;124m\"\u001b[39m,\u001b[38;5;124m'\u001b[39m\u001b[38;5;124mrb\u001b[39m\u001b[38;5;124m'\u001b[39m) \u001b[38;5;28;01mas\u001b[39;00m f:\n\u001b[0;32m----> 8\u001b[0m   loaded_model\u001b[38;5;241m=\u001b[39m\u001b[43mpickle\u001b[49m\u001b[38;5;241;43m.\u001b[39;49m\u001b[43mload\u001b[49m\u001b[43m(\u001b[49m\u001b[43mf\u001b[49m\u001b[43m)\u001b[49m\n\u001b[1;32m      9\u001b[0m \u001b[38;5;66;03m# Example usage to predict a new instance\u001b[39;00m\n\u001b[1;32m     10\u001b[0m \u001b[38;5;66;03m# new_instance = np.array([0.6, 0.48, 0.030012, 'up'][:3])\u001b[39;00m\n\u001b[1;32m     11\u001b[0m \u001b[38;5;66;03m# prediction = loaded_model.predict_proba([new_instance])\u001b[39;00m\n\u001b[1;32m     12\u001b[0m \u001b[38;5;66;03m# print(f\"Prediction: {prediction}\")\u001b[39;00m\n",
      "File \u001b[0;32msklearn/tree/_tree.pyx:865\u001b[0m, in \u001b[0;36msklearn.tree._tree.Tree.__setstate__\u001b[0;34m()\u001b[0m\n",
      "File \u001b[0;32msklearn/tree/_tree.pyx:1571\u001b[0m, in \u001b[0;36msklearn.tree._tree._check_node_ndarray\u001b[0;34m()\u001b[0m\n",
      "\u001b[0;31mValueError\u001b[0m: node array from the pickle has an incompatible dtype:\n- expected: {'names': ['left_child', 'right_child', 'feature', 'threshold', 'impurity', 'n_node_samples', 'weighted_n_node_samples', 'missing_go_to_left'], 'formats': ['<i8', '<i8', '<i8', '<f8', '<f8', '<i8', '<f8', 'u1'], 'offsets': [0, 8, 16, 24, 32, 40, 48, 56], 'itemsize': 64}\n- got     : [('left_child', '<i8'), ('right_child', '<i8'), ('feature', '<i8'), ('threshold', '<f8'), ('impurity', '<f8'), ('n_node_samples', '<i8'), ('weighted_n_node_samples', '<f8')]"
     ]
    }
   ],
   "source": [
    "import numpy as np\n",
    "# Loading the model\n",
    "import pickle\n",
    "# with open(\"models/logistic_regression_model_random.pkl\",'rb') as f:\n",
    "#   loaded_model=pickle.load(f)\n",
    "\n",
    "with open(\"models/decision_tree_model_random.pkl\",'rb') as f:\n",
    "  loaded_model=pickle.load(f)\n",
    "# Example usage to predict a new instance\n",
    "# new_instance = np.array([0.6, 0.48, 0.030012, 'up'][:3])\n",
    "# prediction = loaded_model.predict_proba([new_instance])\n",
    "# print(f\"Prediction: {prediction}\")"
   ]
  },
  {
   "cell_type": "code",
   "execution_count": 31,
   "metadata": {},
   "outputs": [
    {
     "data": {
      "text/plain": [
       "3"
      ]
     },
     "execution_count": 31,
     "metadata": {},
     "output_type": "execute_result"
    }
   ],
   "source": [
    "list(loaded_model.classes_).index('up')"
   ]
  },
  {
   "cell_type": "code",
   "execution_count": 6,
   "metadata": {},
   "outputs": [
    {
     "data": {
      "text/plain": [
       "[(22, 24), (24, 24)]"
      ]
     },
     "execution_count": 6,
     "metadata": {},
     "output_type": "execute_result"
    }
   ],
   "source": [
    "import random\n",
    "maze= [[0, 0, 0, 1, 0, 1, 0, 0, 0, 1, 0, 0, 0, 0, 0, 1, 0, 0, 0, 0, 1, 1, 0, 0, 0], [1, 1, 0, 0, 0, 0, 1, 1, 0, 0, 1, 0, 1, 1, 0, 1, 1, 0, 1, 1, 0, 0, 0, 1, 0], [0, 1, 1, 0, 1, 0, 0, 0, 0, 1, 0, 1, 0, 0, 0, 0, 1, 0, 0, 0, 1, 0, 1, 1, 0], [0, 0, 0, 1, 1, 1, 0, 1, 1, 1, 0, 0, 1, 0, 1, 0, 0, 1, 1, 0, 0, 0, 1, 0, 1], [0, 1, 1, 0, 1, 0, 0, 0, 0, 0, 0, 1, 0, 1, 0, 0, 1, 0, 1, 0, 1, 0, 0, 0, 0], [0, 1, 0, 0, 0, 1, 0, 1, 0, 1, 1, 0, 0, 0, 0, 0, 0, 0, 0, 0, 0, 1, 1, 1, 0], [0, 0, 1, 1, 0, 0, 0, 0, 1, 0, 0, 1, 0, 1, 0, 0, 1, 1, 1, 1, 0, 0, 0, 0, 0], [0, 1, 0, 0, 1, 0, 1, 0, 1, 1, 0, 0, 0, 1, 1, 0, 0, 0, 0, 0, 1, 0, 1, 1, 0], [0, 0, 0, 1, 0, 1, 0, 0, 0, 0, 1, 0, 1, 0, 1, 0, 1, 0, 1, 0, 1, 1, 0, 0, 0], [1, 0, 1, 0, 0, 0, 1, 0, 0, 0, 0, 0, 1, 0, 0, 0, 1, 0, 1, 1, 0, 0, 0, 1, 0], [0, 0, 0, 0, 1, 0, 0, 1, 0, 1, 0, 1, 0, 0, 1, 0, 0, 1, 0, 0, 1, 1, 0, 0, 0], [0, 1, 0, 1, 0, 1, 0, 0, 0, 0, 0, 0, 1, 1, 0, 0, 1, 0, 1, 0, 0, 0, 0, 1, 0], [1, 0, 0, 1, 0, 1, 0, 1, 0, 1, 1, 0, 0, 1, 1, 0, 0, 0, 0, 1, 0, 1, 0, 0, 0], [1, 0, 1, 0, 0, 0, 1, 0, 1, 0, 0, 0, 1, 0, 0, 1, 0, 1, 1, 0, 1, 0, 0, 1, 0], [0, 1, 0, 1, 1, 0, 0, 0, 0, 1, 1, 0, 1, 0, 1, 0, 0, 0, 1, 0, 0, 1, 0, 0, 0], [0, 0, 0, 1, 0, 0, 1, 1, 0, 1, 0, 0, 0, 0, 1, 0, 1, 1, 0, 0, 1, 0, 0, 1, 0], [1, 0, 1, 0, 1, 0, 0, 0, 1, 0, 0, 1, 1, 1, 0, 0, 0, 1, 1, 0, 0, 1, 0, 0, 0], [0, 0, 0, 0, 0, 0, 1, 0, 0, 1, 0, 0, 0, 1, 1, 0, 1, 0, 1, 1, 0, 1, 1, 0, 0], [0, 1, 0, 1, 0, 1, 1, 1, 0, 0, 1, 1, 0, 0, 0, 0, 0, 0, 0, 0, 0, 0, 0, 0, 0], [1, 0, 1, 0, 0, 1, 1, 0, 1, 0, 1, 0, 0, 1, 0, 1, 0, 1, 1, 0, 1, 1, 0, 1, 0], [0, 0, 0, 0, 1, 0, 0, 0, 0, 0, 0, 0, 1, 0, 1, 0, 1, 0, 0, 1, 0, 0, 0, 0, 0], [1, 1, 1, 1, 1, 1, 0, 1, 0, 1, 0, 1, 0, 0, 0, 0, 0, 0, 1, 0, 0, 1, 1, 0, 0], [0, 0, 0, 0, 1, 0, 0, 0, 1, 0, 0, 0, 0, 1, 0, 1, 0, 1, 0, 0, 1, 1, 0, 0, 0], [0, 1, 1, 0, 0, 1, 1, 1, 0, 1, 0, 1, 0, 0, 1, 0, 0, 0, 1, 0, 1, 0, 0, 1, 0], [0, 0, 0, 1, 0, 0, 0, 0, 0, 0, 0, 1, 0, 1, 0, 0, 1, 0, 0, 1, 0, 0, 1, 1, 0]]\n",
    "actions = ['left', 'right', 'up', 'down']\n",
    "\n",
    "def move(maze, position, action):\n",
    "    '''\n",
    "        returns co-ordinate of new position\n",
    "    '''\n",
    "    row, col = position\n",
    "    if action == 'left' and col > 0 and maze[row][col - 1] == 0:\n",
    "        return (row, col - 1)\n",
    "    elif action == 'right' and col < len(maze[0]) - 1 and maze[row][col + 1] == 0:\n",
    "        return (row, col + 1)\n",
    "    elif action == 'up' and row > 0 and maze[row - 1][col] == 0:\n",
    "        return (row - 1, col)\n",
    "    elif action == 'down' and row < len(maze) - 1 and maze[row + 1][col] == 0:\n",
    "        return (row + 1, col)\n",
    "    else:\n",
    "        return position\n",
    "\n",
    "def get_valid_actions(maze, current_position):\n",
    "    '''\n",
    "        returns list of valid actions\n",
    "    '''\n",
    "    valid_actions = []\n",
    "    for action in actions:\n",
    "        new_position = move(maze, current_position, action)\n",
    "        if new_position != current_position:\n",
    "            valid_actions.append(action)\n",
    "    return valid_actions\n",
    "\n",
    "def move(maze, current_position, direction):\n",
    "    '''\n",
    "    Move to the next position in the maze based on the current position and direction.\n",
    "\n",
    "    Parameters:\n",
    "    maze (list of lists): The maze represented as a 2D list.\n",
    "    current_position (tuple): The current position in the maze as a tuple (x, y).\n",
    "    direction (str): The direction of movement ('up', 'down', 'left', 'right').\n",
    "\n",
    "    Returns:\n",
    "    tuple: The new position in the maze after moving in the specified direction.\n",
    "    '''\n",
    "    x, y = current_position\n",
    "    if direction == \"up\":\n",
    "        x -= 1\n",
    "    elif direction == \"down\":\n",
    "        x += 1\n",
    "    elif direction == \"left\":\n",
    "        y -= 1\n",
    "    elif direction == \"right\":\n",
    "        y += 1\n",
    "    # Check if the new position is within the bounds of the maze\n",
    "    if 0 <= x < len(maze) and 0 <= y < len(maze[0]) and maze[x][y] != 1:  # Assuming 1 represents a wall\n",
    "        return (x, y)\n",
    "    else:\n",
    "        # Return the original position if the move is not valid\n",
    "        return current_position\n",
    "\n",
    "current_position = (23,24)\n",
    "# possible_directions = [\"left\", \"right\", \"up\", \"down\"]\n",
    "directions = get_valid_actions(maze, current_position)\n",
    "\n",
    "next = [move(maze, current_position, d) for d in directions]\n",
    "next\n",
    "# for d in directions:\n",
    "#     next_position = move(maze, current_position, d)\n",
    "#     print(f'\\n\\ncurrent:{current_position} \\n next_position:{next_position} \\n direction:{d}')"
   ]
  },
  {
   "cell_type": "code",
   "execution_count": 7,
   "metadata": {},
   "outputs": [],
   "source": [
    "import random\n",
    "def get_random_valid_position(maze):\n",
    "    '''\n",
    "        returns random position in maze whose value is 0 (0 is path)\n",
    "    '''\n",
    "    valid_positions = [(i, j) for i in range(len(maze)) for j in range(len(maze[0])) if maze[i][j] == 0]\n",
    "    return random.choice(valid_positions) if valid_positions else None\n",
    "\n",
    "def display(maze, source, destination, current_position, path=None):\n",
    "    for i in range(len(maze)):\n",
    "        for j in range(len(maze[0])):\n",
    "            if (i, j) == source:\n",
    "                print('S', end=' ')\n",
    "            elif (i, j) == destination:\n",
    "                print('D', end=' ')\n",
    "            elif (i, j) == current_position:\n",
    "                print('C', end=' ')\n",
    "            elif path and (i, j) in path:\n",
    "                print('*', end=' ')  # Mark the path with '*'\n",
    "            elif maze[i][j] == 1:\n",
    "                print('#', end=' ')\n",
    "            else:\n",
    "                print('.', end=' ')\n",
    "        print()"
   ]
  },
  {
   "cell_type": "code",
   "execution_count": null,
   "metadata": {},
   "outputs": [],
   "source": [
    "from pre_process import PreProcess\n",
    "import os\n",
    "import time\n",
    "from IPython.display import clear_output\n",
    "destination =  (24,24)# get_random_valid_position(maze)\n",
    "source=(9,20)\n",
    "# source = get_random_valid_position(maze)\n",
    "path = []\n",
    "while current_position != destination:\n",
    "    current_position = get_random_valid_position(maze)\n",
    "loop_count=0\n",
    "while True:\n",
    "    if loop_count ==0:\n",
    "        current_position = source\n",
    "        loop_count = 1\n",
    "    # possible_directions = [\"left\", \"right\", \"up\", \"down\"]\n",
    "\n",
    "    directions = get_valid_actions(maze, current_position)\n",
    "    next_coordinates = [move(maze, current_position, d) for d in directions]\n",
    "    \n",
    "    cleaned_directions = []\n",
    "    cleaned_next_coordinates = [] \n",
    "    # REmove coordinate from next_coordinate if it is in path\n",
    "    for i in range(len(next_coordinates)):\n",
    "        if next_coordinates[i] not in path:\n",
    "            print(f'{next_coordinates[i]} is not in {path}')\n",
    "            cleaned_directions.append(directions[i])\n",
    "            cleaned_next_coordinates.append(next_coordinates[i])\n",
    "    next_coordinates = cleaned_next_coordinates\n",
    "    directions = cleaned_directions       \n",
    "\n",
    "    next_vector_coordinates = [PreProcess.vector_representation(maze, current_position, next) for next in next_coordinates]\n",
    "    distances = [PreProcess.euclidean_distance(next, destination) for next in next_coordinates]\n",
    "    predictions = []\n",
    "    max_prediction_index = None\n",
    "    max_score = -1\n",
    "    for i in range(len(distances)):\n",
    "        data = np.array(list(next_vector_coordinates[i]) + [distances[i]])\n",
    "        # print(data)\n",
    "        predicted_direction = loaded_model.predict([data])[0]\n",
    "        # print(predicted_direction)\n",
    "        prediction_score = loaded_model.predict_proba([data])[0][list(loaded_model.classes_).index(predicted_direction)]\n",
    "        if int(prediction_score) >= max_score:\n",
    "            max_prediction_index = i\n",
    "            max_score = prediction_score\n",
    "        predictions.append([predicted_direction, prediction_score])\n",
    "    if current_position == destination:\n",
    "      print(\"Reached Destination amigo!\")\n",
    "      break\n",
    "    current_position = next_coordinates[max_prediction_index]\n",
    "    # print(f'predictions:{predictions}')\n",
    "    # Sort the predictions based on the score (second element in each sublist)\n",
    "    # sorted_predictions = sorted(predictions, key=lambda x: x[1], reverse=True)\n",
    "    # sorted_predictions[0][0]\n",
    "     \n",
    "    path.append(current_position)\n",
    "    # os.system('cls')\n",
    "    clear_output()\n",
    "    display(maze, source, destination, current_position, path=path)\n",
    "    print(f'path:{path} len(path)')\n",
    "    time.sleep(0.7)\n",
    "    #     print(next_vector_coordinates)\n",
    "    #     prediction, score = loaded_model.predict([new_instance])\n",
    "    # print(f\"Prediction: {prediction}\")\n",
    "# print(path)\n",
    "display(maze, source, destination, current_position, path=path)\n"
   ]
  },
  {
   "cell_type": "code",
   "execution_count": 84,
   "metadata": {},
   "outputs": [
    {
     "data": {
      "text/plain": [
       "'up'"
      ]
     },
     "execution_count": 84,
     "metadata": {},
     "output_type": "execute_result"
    }
   ],
   "source": [
    "sorted_predictions[0][0]"
   ]
  },
  {
   "cell_type": "code",
   "execution_count": 55,
   "metadata": {},
   "outputs": [
    {
     "data": {
      "text/plain": [
       "3"
      ]
     },
     "execution_count": 55,
     "metadata": {},
     "output_type": "execute_result"
    }
   ],
   "source": [
    "list(loaded_model.classes_).index(predicted_direction[0])"
   ]
  },
  {
   "cell_type": "code",
   "execution_count": 59,
   "metadata": {},
   "outputs": [
    {
     "data": {
      "text/plain": [
       "0.06294137267222699"
      ]
     },
     "execution_count": 59,
     "metadata": {},
     "output_type": "execute_result"
    }
   ],
   "source": [
    "loaded_model.predict_proba([data])[0][1]"
   ]
  }
 ],
 "metadata": {
  "kernelspec": {
   "display_name": "agentenv",
   "language": "python",
   "name": "python3"
  },
  "language_info": {
   "codemirror_mode": {
    "name": "ipython",
    "version": 3
   },
   "file_extension": ".py",
   "mimetype": "text/x-python",
   "name": "python",
   "nbconvert_exporter": "python",
   "pygments_lexer": "ipython3",
   "version": "3.10.12"
  }
 },
 "nbformat": 4,
 "nbformat_minor": 2
}
