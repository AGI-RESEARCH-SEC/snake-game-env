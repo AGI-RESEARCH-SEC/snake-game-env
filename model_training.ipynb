{
 "cells": [
  {
   "cell_type": "markdown",
   "metadata": {},
   "source": [
    "# Loading the data"
   ]
  },
  {
   "cell_type": "code",
   "execution_count": 1,
   "metadata": {},
   "outputs": [
    {
     "data": {
      "text/plain": [
       "[[0.5, 0.52, 0.02503692947096968, 'down'],\n",
       " [0.5, 0.52, 0.02503692947096968, 'down'],\n",
       " [0.52, 0.5, 0.1583474454905175, 'right'],\n",
       " [0.5, 0.52, 0.33590565746973633, 'down'],\n",
       " [0.5, 0.52, 0.6019286087064073, 'down'],\n",
       " [0.52, 0.5, 0.1583474454905175, 'right'],\n",
       " [0.5, 0.48, 0.33590565746973633, 'up'],\n",
       " [0.52, 0.5, 0.49317031630635705, 'right'],\n",
       " [0.5, 0.52, 0.15022157682581808, 'down'],\n",
       " [0.52, 0.5, 0.19554467028633868, 'right']]"
      ]
     },
     "execution_count": 1,
     "metadata": {},
     "output_type": "execute_result"
    }
   ],
   "source": [
    "import random\n",
    "import json\n",
    "\n",
    "with open('fixed_destination.json', 'r') as f:\n",
    "    d = json.load(f)\n",
    "\n",
    "maze = d['maze']\n",
    "data = d['data']\n",
    "\n",
    "'''\n",
    "model data is 2D list\n",
    "inner dimension representing each data item: [0.52, 0.5, 0.1522936964597336, 'right']\n",
    "'''\n",
    "\n",
    "# shuffle data\n",
    "random.shuffle(data)\n",
    "data[:10]"
   ]
  },
  {
   "cell_type": "markdown",
   "metadata": {},
   "source": [
    "## Training the model:\n",
    "* each data item is value like: [0.5, 0.52, 0.02503692947096968, 'down']\n",
    "* first two values represent vectorized co-ordinates\n",
    "* third value represent distance between current location and destination\n",
    "* last value represent label for model output"
   ]
  },
  {
   "cell_type": "code",
   "execution_count": 3,
   "metadata": {},
   "outputs": [],
   "source": [
    "from sklearn.model_selection import train_test_split\n",
    "from sklearn.linear_model import LogisticRegression\n",
    "from sklearn.metrics import accuracy_score\n",
    "import numpy as np\n",
    "\n",
    "# # Assuming your data is a list of lists\n",
    "# # Each data item is of the form: [x1, x2, distance, label]\n",
    "# # Example data\n",
    "# data = [\n",
    "#     [0.5, 0.52, 0.02503692947096968, 'down'],\n",
    "#     # Add more data items here\n",
    "# ]\n",
    "\n",
    "# Extract features (first three values) and labels\n",
    "X = np.array([item[:3] for item in data])\n",
    "y = np.array([item[3] for item in data])\n",
    "\n",
    "# Split the data into training and testing sets\n",
    "X_train, X_test, y_train, y_test = train_test_split(X, y, test_size=0.2, random_state=42)\n",
    "\n",
    "# Initialize the Logistic Regression model\n",
    "model = LogisticRegression()\n",
    "\n",
    "# Train the model\n",
    "model.fit(X_train, y_train)\n",
    "\n",
    "# Make predictions on the test set\n",
    "y_pred = model.predict(X_test)\n",
    "\n",
    "# Evaluate the model\n",
    "accuracy = accuracy_score(y_test, y_pred)\n",
    "print(f\"Accuracy: {accuracy}\")\n",
    "\n",
    "# Example usage to predict a new instance\n",
    "new_instance = np.array([[0.6, 0.48, 0.030012, 'up']])\n",
    "prediction = model.predict(new_instance[:, :3])\n",
    "print(f\"Prediction: {prediction}\")\n"
   ]
  }
 ],
 "metadata": {
  "kernelspec": {
   "display_name": "machine_env",
   "language": "python",
   "name": "python3"
  },
  "language_info": {
   "codemirror_mode": {
    "name": "ipython",
    "version": 3
   },
   "file_extension": ".py",
   "mimetype": "text/x-python",
   "name": "python",
   "nbconvert_exporter": "python",
   "pygments_lexer": "ipython3",
   "version": "3.10.12"
  }
 },
 "nbformat": 4,
 "nbformat_minor": 2
}
