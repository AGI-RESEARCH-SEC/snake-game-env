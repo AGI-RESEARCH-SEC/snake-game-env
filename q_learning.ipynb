{
  "cells": [
    {
      "cell_type": "markdown",
      "metadata": {
        "id": "XzXa5UMIg6Rz"
      },
      "source": [
        "## Our Code"
      ]
    },
    {
      "cell_type": "code",
      "execution_count": 153,
      "metadata": {
        "id": "tpp4V0vuHXjP"
      },
      "outputs": [],
      "source": [
        "import numpy as np\n",
        "# Define the maze\n",
        "maze = [\n",
        "    [1, 1, 1, 1, 1, 1, 1, 1, 1],\n",
        "    [1, 1, 1, 1, 1, 0, 1, 1, 1],\n",
        "    [1, 1, 1, 1, 1, 0, 0, 0, 0],\n",
        "    [1, 1, 1, 1, 1, 0, 1, 1, 1],\n",
        "    [1, 1, 1, 1, 1, 0, 1, 1, 1],\n",
        "    [1, 1, 1, 1, 1, 0, 1, 1, 1],\n",
        "    [1, 1, 1, 1, 1, 0, 1, 1, 1],\n",
        "    [1, 1, 1, 1, 1, 0, 1, 1, 1],\n",
        "    [1, 1, 1, 1, 1, 0, 1, 1, 1],\n",
        "    [1, 1, 1, 0, 0, 1, 1, 1, 1],\n",
        "    [1, 1, 1, 0, 0, 1, 1, 1, 1],\n",
        "    [1, 1, 1, 0, 0, 1, 1, 1, 1],\n",
        "    [1, 1, 1, 0, 0, 1, 1, 1, 1],\n",
        "    [1, 1, 1, 0, 0, 0, 0, 0, 0],\n",
        "    [1, 1, 1, 1, 1, 1, 1, 1, 1]\n",
        "]\n",
        "source = (2,8)\n",
        "destination = (13,8)\n",
        "\n",
        "# Define the maze\n",
        "maze = np.array([\n",
        "    [1, 1, 0, 1],\n",
        "    [1, 1, 0, 0],\n",
        "    [1, 1, 0, 1],\n",
        "    [1, 0, 0, 1],\n",
        "    [1, 0, 0, 0]\n",
        "])\n",
        "source = (1,3)\n",
        "destination = (4,3)\n",
        "facing = \"left\"\n",
        "\n",
        "# Obstacle Avoidance\n",
        "maze = np.array([\n",
        "    [1, 1, 1, 1],\n",
        "    [1, 1, 0, 1],\n",
        "    [1, 0, 0, 1],\n",
        "    [1, 0, 1, 1],\n",
        "    [1, 0, 0, 1],\n",
        "    [1, 1, 0, 0],\n",
        "    [1, 1, 1, 1]\n",
        "])\n",
        "source = (1,2)\n",
        "destination = (5,3)\n",
        "facing = \"down\""
      ]
    },
    {
      "cell_type": "code",
      "execution_count": 154,
      "metadata": {
        "colab": {
          "base_uri": "https://localhost:8080/"
        },
        "id": "M0gs7UlIWqG4",
        "outputId": "5c8f0a4c-6f5f-4778-e829-9725d16df06c"
      },
      "outputs": [
        {
          "name": "stdout",
          "output_type": "stream",
          "text": [
            "Binary: 101\n",
            "Decimal: 5\n"
          ]
        }
      ],
      "source": [
        "def binary_to_decimal(binary):\n",
        "    decimal = int(binary, 2)\n",
        "    return decimal\n",
        "\n",
        "# Example usage:\n",
        "binary_number = \"101\"\n",
        "decimal_value = binary_to_decimal(binary_number)\n",
        "print(\"Binary:\", binary_number)\n",
        "print(\"Decimal:\", decimal_value)\n"
      ]
    },
    {
      "cell_type": "code",
      "execution_count": 155,
      "metadata": {
        "colab": {
          "base_uri": "https://localhost:8080/"
        },
        "id": "VAFT67Y3K5XB",
        "outputId": "3ff15f5e-1a24-4469-c551-a78ea3968ee7"
      },
      "outputs": [
        {
          "data": {
            "text/plain": [
              "((1, 0, 1), 5)"
            ]
          },
          "execution_count": 155,
          "metadata": {},
          "output_type": "execute_result"
        }
      ],
      "source": [
        "def get_current_state(maze, current_location, facing):\n",
        "    row, col = current_location\n",
        "    # Calculate the next location based on the facing direction\n",
        "    if facing == 'up':\n",
        "        front_row, front_col = row - 1, col\n",
        "        left_row, left_col = row, col - 1\n",
        "        right_row, right_col = row, col + 1\n",
        "        # Check if there is a path to the left\n",
        "        left_value = 0 if left_col > 0 and maze[left_row][left_col] == 0 else 1\n",
        "        # Check if there is a path to the right\n",
        "        right_value = 0 if right_col < len(maze[0]) and maze[right_row][right_col] == 0 else 1\n",
        "        # Check if there is a path to the front\n",
        "        front_value = 0 if front_row > 0 and maze[front_row][front_col] == 0 else 1\n",
        "        # Check if there is an obstacle in front\n",
        "    elif facing == 'down':\n",
        "        front_row, front_col = row + 1, col\n",
        "        left_row, left_col = row, col + 1\n",
        "        right_row, right_col = row, col - 1\n",
        "        # Check if there is a path to the left\n",
        "        left_value = 0 if left_col < len(maze[0]) and maze[left_row][left_col] == 0 else 1\n",
        "        # Check if there is a path to the right\n",
        "        right_value = 0 if right_col > 0 and maze[right_row][right_col] == 0 else 1\n",
        "        # Check if there is a path to the front\n",
        "        front_value = 0 if front_row < len(maze) and maze[front_row][front_col] == 0 else 1\n",
        "    elif facing == 'left':\n",
        "        front_row, front_col = row, col - 1\n",
        "        left_row, left_col = row + 1, col\n",
        "        right_row, right_col = row - 1, col\n",
        "        # Check if there is a path to the left\n",
        "        left_value = 0 if left_row < len(maze) and maze[left_row][left_col] == 0 else 1\n",
        "        # Check if there is a path to the right\n",
        "        right_value = 0 if right_row > 0 and maze[right_row][right_col] == 0 else 1\n",
        "        # Check if there is a path to the front\n",
        "        front_value = 0 if front_col > 0 and maze[front_row][front_col] == 0 else 1\n",
        "    elif facing == 'right':\n",
        "        front_row, front_col = row, col + 1\n",
        "        left_row, left_col = row - 1, col\n",
        "        right_row, right_col = row + 1, col\n",
        "        # Check if there is a path to the left\n",
        "        left_value = 0 if left_row >0 and maze[left_row][left_col] == 0 else 1\n",
        "        # Check if there is a path to the right\n",
        "        right_value = 0 if right_row <  len(maze) and maze[right_row][right_col] == 0 else 1\n",
        "        # Check if there is a path to the front\n",
        "        front_value = 0 if front_col <  len(maze[0]) and maze[front_row][front_col] == 0 else 1\n",
        "    return (left_value, right_value, front_value), binary_to_decimal(str(left_value) + str(right_value) + str(front_value))\n",
        "\n",
        "# Example usage:\n",
        "# current_location = (2, 8)  # Example starting location\n",
        "current_location = (1, 3)  # Example starting location\n",
        "# facing_direction = 'up'    # Example starting facing direction\n",
        "get_current_state(maze, current_location, facing='up') # output: [0, 1, 1]<binary>, 3 <decimal>\n",
        "get_current_state(maze, current_location, facing='left') # output: [0, 1, 1]<binary>, 6 <decimal>\n",
        "get_current_state(maze, current_location, facing='right') # output: [1, 1, 1]<binary>, 7 <decimal>\n",
        "get_current_state(maze, current_location, facing='down') # output: [1, 0, 1] <binary> 5 <decimal>\n"
      ]
    },
    {
      "cell_type": "code",
      "execution_count": 156,
      "metadata": {
        "colab": {
          "base_uri": "https://localhost:8080/"
        },
        "id": "sMNqRp_gV18m",
        "outputId": "c67a23a7-78be-41fd-e380-5aa529d08a8e"
      },
      "outputs": [
        {
          "name": "stdout",
          "output_type": "stream",
          "text": [
            "New Coordinates: (0, 0)\n",
            "New Facing Direction: left\n"
          ]
        }
      ],
      "source": [
        "def is_valid_coords(maze, coordinates):\n",
        "    x, y = coordinates\n",
        "    if (x>=0) and (x < len(maze)) and (y > 0) and (y < len(maze[0])) and maze[x][y]==0:\n",
        "        return True\n",
        "    else:\n",
        "        return False\n",
        "\n",
        "def move(maze, facing, action, current_coordinates, move_forward_on_turn=True):\n",
        "    '''\n",
        "      move_forward_on_turn=True makes it move forward towards direction of turn on every turn action.\n",
        "    '''\n",
        "    x, y = current_coordinates\n",
        "    new_facing = facing\n",
        "    new_coordinates = current_coordinates\n",
        "\n",
        "    # Perform the chosen action\n",
        "    if action == 0:\n",
        "      action = \"left\"\n",
        "    elif action == 1:\n",
        "      action = \"right\"\n",
        "    elif action == 2:\n",
        "      action = \"forward\"\n",
        "    elif action not in [\"left\", \"right\", \"forward\"]:\n",
        "      raise ValueError(f\"Amigo! action is not supposed to be \\\"{action}\\\". it is either of [left, right, forward]\")  # Raises a ValueError\n",
        "\n",
        "    if action == 'left':\n",
        "        if facing == 'up':\n",
        "            new_facing = 'left'\n",
        "        elif facing == 'down':\n",
        "            new_facing = 'right'\n",
        "        elif facing == 'left':\n",
        "            new_facing = 'down'\n",
        "        elif facing == 'right':\n",
        "            new_facing = 'up'\n",
        "        # new_coordinates = current_coordinates\n",
        "    elif action == 'right':\n",
        "        if facing == 'up':\n",
        "            new_facing = 'right'\n",
        "        elif facing == 'down':\n",
        "            new_facing = 'left'\n",
        "        elif facing == 'left':\n",
        "            new_facing = 'up'\n",
        "        elif facing == 'right':\n",
        "            new_facing = 'down'\n",
        "        # new_coordinates = current_coordinates\n",
        "    if move_forward_on_turn:\n",
        "        facing = new_facing\n",
        "    if action == \"forward\" or move_forward_on_turn:\n",
        "        if facing == 'up':\n",
        "            new_coordinates = (x - 1, y)\n",
        "        elif facing == 'down':\n",
        "            new_coordinates = (x + 1, y)\n",
        "        elif facing == 'left':\n",
        "            new_coordinates = (x, y - 1)\n",
        "        elif facing == 'right':\n",
        "            new_coordinates = (x, y + 1)\n",
        "        if not is_valid_coords(maze, new_coordinates):\n",
        "            new_coordinates = current_coordinates\n",
        "        # new_facing = facing\n",
        "    return new_coordinates, new_facing\n",
        "\n",
        "# Example usage:\n",
        "current_facing = 'up'      # Example current facing action\n",
        "action = 'left'  # Example rotation action ('left' or 'right')\n",
        "\n",
        "current_coordinates = (0, 0)  # Example starting coordinates\n",
        "new_coordinates, new_facing = move(maze, current_facing, action, current_coordinates)\n",
        "\n",
        "print(\"New Coordinates:\", new_coordinates)\n",
        "print(\"New Facing Direction:\", new_facing)"
      ]
    },
    {
      "cell_type": "code",
      "execution_count": 157,
      "metadata": {
        "id": "93hAdkjxfiP4"
      },
      "outputs": [],
      "source": [
        "from IPython.display import clear_output\n",
        "def display(maze, source, destination, current_position, path=None):\n",
        "    clear_output()\n",
        "    for i in range(len(maze)):\n",
        "        for j in range(len(maze[0])):\n",
        "            if (i, j) == source:\n",
        "                print('S', end=' ')\n",
        "            elif (i, j) == destination:\n",
        "                print('D', end=' ')\n",
        "            elif (i, j) == current_position:\n",
        "                print('C', end=' ')\n",
        "            elif path and (i, j) in path:\n",
        "                print('*', end=' ')  # Mark the path with '*'\n",
        "            elif maze[i][j] == 1:\n",
        "                print('#', end=' ')\n",
        "            else:\n",
        "                print('.', end=' ')\n",
        "        print()\n"
      ]
    },
    {
      "cell_type": "markdown",
      "metadata": {
        "id": "7mtHLTGSgKc8"
      },
      "source": [
        "## Training Q-network"
      ]
    },
    {
      "cell_type": "code",
      "execution_count": 163,
      "metadata": {
        "colab": {
          "base_uri": "https://localhost:8080/"
        },
        "id": "1DeZVQS_RdnE",
        "outputId": "a2f23f6e-973c-46c8-a271-112941d97cfc"
      },
      "outputs": [
        {
          "name": "stdout",
          "output_type": "stream",
          "text": [
            "# # # # \n",
            "# # S # \n",
            "# * * # \n",
            "# * # # \n",
            "# * * # \n",
            "# # * * \n",
            "# # # D \n",
            "path: len.8 [(1, 2), (2, 2), (2, 1), (3, 1), (4, 1), (4, 2), (5, 2), (5, 3)]\n"
          ]
        }
      ],
      "source": [
        "import numpy as np\n",
        "\n",
        "# Define Q-learning parameters\n",
        "num_actions = 4  # Up, Down, Left, Right\n",
        "learning_rate = 0.1\n",
        "discount_factor = 0.9\n",
        "exploration_rate = 0.1\n",
        "exploration_rate_decay = .85\n",
        "num_episodes = 1000\n",
        "\n",
        "# Define the number of states and actions\n",
        "num_states = 2 ** 3  # 3 binary inputs\n",
        "num_actions = 3      # left, right, forward\n",
        "iteration_path_len_data = []\n",
        "\n",
        "\n",
        "# Initialize Q-table with random values\n",
        "q_values = np.zeros((num_states, num_actions))\n",
        "\n",
        "for episode in range(num_episodes):\n",
        "    # state = (0, 0)  # Starting position\n",
        "    current_coordinates = source\n",
        "    facing = \"left\" # For maze 2\n",
        "    facing = \"down\" # For maze 3\n",
        "    state_binary, state = get_current_state(maze, current_coordinates, facing)\n",
        "    path = [current_coordinates]\n",
        "\n",
        "    # while state != (maze.shape[0] - 1, maze.shape[1] - 1):  # Continue until reaching the goal\n",
        "    while current_coordinates != destination:\n",
        "        # Choose an action using epsilon-greedy strategy\n",
        "        if np.random.rand() < exploration_rate:\n",
        "            action = np.random.choice(num_actions)   # action is one of [0, 1, 2]\n",
        "        else:\n",
        "            action = np.argmax(q_values[state])      # action is one of [0, 1, 2]\n",
        "        new_coordinates, new_facing = move(maze, facing, action, current_coordinates)\n",
        "        new_state_binary, new_state = get_current_state(maze, new_coordinates, new_facing)\n",
        "\n",
        "\n",
        "        # Update Q-value using the Bellman equation\n",
        "        reward = -1 if maze[new_coordinates[0], new_coordinates[1]] == 0 else -5  # Penalize hitting a wall\n",
        "        reward = +2 if new_coordinates == destination else reward # Reward for reaching destination\n",
        "        q_values[state, action] += learning_rate * (\n",
        "                reward + discount_factor * np.max(q_values[new_state]) - q_values[state, action])\n",
        "\n",
        "        # Move to the new state\n",
        "        facing = new_facing\n",
        "        current_coordinates = new_coordinates\n",
        "        state = new_state\n",
        "        path.append(current_coordinates)\n",
        "    iteration_path_len_data.append([episode, len(path)])\n",
        "\n",
        "    # Decrease the exploration rate\n",
        "    exploration_rate *= exploration_rate_decay\n",
        "    if episode % 100 == 0:\n",
        "        display(maze=maze, path=path, source = source, destination= (maze.shape[0] - 1, maze.shape[1] - 1), current_position=(maze.shape[0] - 1, maze.shape[1] - 1))\n",
        "        print(f'{episode} path: len.{len(path)} {path}')\n",
        "\n",
        "print(\"Training complete!\")\n",
        "# visualize_path(path)\n",
        "display(maze=maze, path=path, source = source, destination= (maze.shape[0] - 1, maze.shape[1] - 1), current_position=(maze.shape[0] - 1, maze.shape[1] - 1))\n",
        "print(f'path: len.{len(path)} {path}')"
      ]
    },
    {
      "cell_type": "code",
      "execution_count": 164,
      "metadata": {
        "colab": {
          "base_uri": "https://localhost:8080/",
          "height": 472
        },
        "id": "JSUNRvUaDTg4",
        "outputId": "cdf096e3-8367-4596-98e5-739a2a452543"
      },
      "outputs": [
        {
          "data": {
            "image/png": "[encoded data removed]",
            "text/plain": [
              "<Figure size 640x480 with 1 Axes>"
            ]
          },
          "metadata": {},
          "output_type": "display_data"
        }
      ],
      "source": [
        "import matplotlib.pyplot as plt\n",
        "\n",
        "# Your data in the format: [ [iteration-1, length-1], [iteration-2, length-2], ... ]\n",
        "# data = [[1, 10], [2, 15], [3, 20], [4, 25]]\n",
        "data = iteration_path_len_data\n",
        "\n",
        "# Extracting iterations and lengths into separate lists\n",
        "iterations, lengths = zip(*data)\n",
        "\n",
        "# Plotting the data\n",
        "plt.plot(iterations, lengths, marker='o', linestyle='-')\n",
        "plt.title('Iteration vs Length')\n",
        "plt.xlabel('Iteration')\n",
        "plt.ylabel('Length')\n",
        "plt.grid(True)\n",
        "plt.show()"
      ]
    },
    {
      "cell_type": "markdown",
      "metadata": {
        "id": "bOYRP-RfgM5F"
      },
      "source": [
        "# Using Trained Q-Network"
      ]
    },
    {
      "cell_type": "code",
      "execution_count": 165,
      "metadata": {
        "colab": {
          "base_uri": "https://localhost:8080/"
        },
        "id": "7K7bcCgCgXeW",
        "outputId": "76d8a11d-7461-44f6-9f02-b4b49ef10fa6"
      },
      "outputs": [
        {
          "name": "stdout",
          "output_type": "stream",
          "text": [
            "# # # # \n",
            "# # S # \n",
            "# * * # \n",
            "# * # # \n",
            "# * * # \n",
            "# # * * \n",
            "# # # D \n",
            "path: len.8 [(1, 2), (2, 2), (2, 1), (3, 1), (4, 1), (4, 2), (5, 2), (5, 3)]\n"
          ]
        }
      ],
      "source": [
        "source  = source\n",
        "destination  = destination\n",
        "\n",
        "current_coordinates = source\n",
        "facing = \"left\" # For maze 2\n",
        "facing = \"down\" # For maze 3\n",
        "state_binary, state = get_current_state(maze, current_coordinates, facing)\n",
        "path = [current_coordinates]\n",
        "\n",
        "# while state != (maze.shape[0] - 1, maze.shape[1] - 1):  # Continue until reaching the goal\n",
        "while current_coordinates != destination:\n",
        "    # Choose an action using epsilon-greedy strategy\n",
        "    # if np.random.rand() < exploration_rate:\n",
        "    #     action = np.random.choice(num_actions)\n",
        "    # else:\n",
        "    action = np.argmax(q_values[state])\n",
        "\n",
        "    new_coordinates, new_facing = move(maze, facing, action, current_coordinates)\n",
        "    new_state_binary, new_state = get_current_state(maze, new_coordinates, new_facing)\n",
        "\n",
        "    # Update Q-value using the Bellman equation\n",
        "    # reward = -1 if maze[new_coordinates[0], new_coordinates[1]] == 0 else -5  # Penalize hitting a wall\n",
        "    # reward = +5 if new_coordinates == destination else reward # Reward for reaching destination\n",
        "    # q_values[state, action] += learning_rate * (\n",
        "    #         reward + discount_factor * np.max(q_values[new_state]) - q_values[state, action])\n",
        "\n",
        "    # Move to the new state\n",
        "    facing = new_facing\n",
        "    current_coordinates = new_coordinates\n",
        "    state = new_state\n",
        "    path.append(current_coordinates)\n",
        "    # print(len(path))\n",
        "    display(maze=maze, path=path, source = source, destination= (maze.shape[0] - 1, maze.shape[1] - 1), current_position=(maze.shape[0] - 1, maze.shape[1] - 1))\n",
        "\n",
        "# Decrease the exploration rate\n",
        "exploration_rate *= exploration_rate_decay\n",
        "if episode % 100 == 0:\n",
        "    display(maze=maze, path=path, source = (0,0), destination= (maze.shape[0] - 1, maze.shape[1] - 1), current_position=(maze.shape[0] - 1, maze.shape[1] - 1))\n",
        "\n",
        "print(\"Training complete!\")\n",
        "# visualize_path(path)\n",
        "display(maze=maze, path=path, source = source, destination= (maze.shape[0] - 1, maze.shape[1] - 1), current_position=(maze.shape[0] - 1, maze.shape[1] - 1))\n",
        "print(f'path: len.{len(path)} {path}')"
      ]
    },
    {
      "cell_type": "markdown",
      "metadata": {
        "id": "fP5vRBZT-w0o"
      },
      "source": [
        "## Maze-2 Q-values"
      ]
    },
    {
      "cell_type": "code",
      "execution_count": 166,
      "metadata": {
        "colab": {
          "base_uri": "https://localhost:8080/",
          "height": 35
        },
        "id": "pzHjBCbrgBWx",
        "outputId": "b47dd3e4-2a83-446f-c96c-9bad0cda958c"
      },
      "outputs": [
        {
          "data": {
            "application/vnd.google.colaboratory.intrinsic+json": {
              "type": "string"
            },
            "text/plain": [
              "'\\n# Maze-3\\n'"
            ]
          },
          "execution_count": 166,
          "metadata": {},
          "output_type": "execute_result"
        }
      ],
      "source": [
        "# Maze-2 Q-Values\n",
        "q_values\n",
        "'''\n",
        "# Maze-2\n",
        "array([[-0.14567543,  0.02899212, -0.26580594],\n",
        "       [15.50059371, -0.15679   , -0.57513834],\n",
        "       [-0.5       , -0.76106002, 19.25654426],\n",
        "       [16.33088984, -2.59484078, -2.47422423],\n",
        "       [-0.85218008, -0.70064572, 12.95053434],\n",
        "       [-2.28421257, -2.77678508, -2.6859972 ],\n",
        "       [-1.61504568, -1.84850008, 12.09657983],\n",
        "       [-2.71166051, -3.13316787, -3.18291114]])\n",
        "'''\n",
        "\n",
        "'''\n",
        "# Maze-3\n",
        "'''"
      ]
    },
    {
      "cell_type": "markdown",
      "metadata": {
        "id": "LTb7ey-hiSnN"
      },
      "source": [
        "## Flatten Q-Table"
      ]
    },
    {
      "cell_type": "code",
      "execution_count": 167,
      "metadata": {
        "colab": {
          "base_uri": "https://localhost:8080/",
          "height": 142
        },
        "id": "DzvhXuTyiQnI",
        "outputId": "a96fd3da-955f-4ec0-f43a-c7606c0e836a"
      },
      "outputs": [
        {
          "name": "stdout",
          "output_type": "stream",
          "text": [
            "Flattened Q-table:\n",
            "[0.0, 0.0, 0.0, -8.038707105143146, -8.082612249219368, -8.075357976574818, 0.0, 0.0, 0.0, -6.647911287348904, -8.350614717222712, -8.359131172256962, 0.0, 0.0, 0.0, -8.401727003925874, -7.051792274204917, -8.407046054870735, -8.05865436530638, -8.055914330703747, -7.195154863191697, -8.159045656801942, -8.353843068419978, -8.358464332980923]\n"
          ]
        },
        {
          "data": {
            "application/vnd.google.colaboratory.intrinsic+json": {
              "type": "string"
            },
            "text/plain": [
              "'\\nFlattened Q-table (Maze-2):\\n[-0.14567542786524684, 0.028992119894766844, -0.2658059392757915, 15.500593710459835, -0.15679, -0.5751383360655641, -0.5, -0.7610600150158306, 19.256544264254092, 16.330889837828664, -2.594840781380889, -2.474224227054556, -0.852180077055561, -0.7006457235470309, 12.950534339413846, -2.2842125693118476, -2.776785077874974, -2.6859971955040907, -1.6150456834794744, -1.8485000844551536, 12.096579828480882, -2.7116605133971876, -3.133167873327339, -3.182911142097555]\\n'"
            ]
          },
          "execution_count": 167,
          "metadata": {},
          "output_type": "execute_result"
        }
      ],
      "source": [
        "# Flatten the Q-table for copying to Arduino code\n",
        "flattened_q_values = q_values.flatten()\n",
        "\n",
        "# Print the flattened Q-table\n",
        "print(\"Flattened Q-table:\")\n",
        "print(list(flattened_q_values))\n",
        "\n",
        "'''\n",
        "Flattened Q-table (Maze-2):\n",
        "[-0.14567542786524684, 0.028992119894766844, -0.2658059392757915, 15.500593710459835, -0.15679, -0.5751383360655641, -0.5, -0.7610600150158306, 19.256544264254092, 16.330889837828664, -2.594840781380889, -2.474224227054556, -0.852180077055561, -0.7006457235470309, 12.950534339413846, -2.2842125693118476, -2.776785077874974, -2.6859971955040907, -1.6150456834794744, -1.8485000844551536, 12.096579828480882, -2.7116605133971876, -3.133167873327339, -3.182911142097555]\n",
        "\n",
        "Flattened Q-table (Maze-3): obstacle avoidance\n",
        "[0.0, 0.0, 0.0, -8.038707105143146, -8.082612249219368, -8.075357976574818, 0.0, 0.0, 0.0, -6.647911287348904, -8.350614717222712, -8.359131172256962, 0.0, 0.0, 0.0, -8.401727003925874, -7.051792274204917, -8.407046054870735, -8.05865436530638, -8.055914330703747, -7.195154863191697, -8.159045656801942, -8.353843068419978, -8.358464332980923]\n",
        "'''"
      ]
    },
    {
      "cell_type": "code",
      "execution_count": null,
      "metadata": {
        "colab": {
          "base_uri": "https://localhost:8080/"
        },
        "id": "5pRnQC1ei1kO",
        "outputId": "07a6ec5b-b2cb-4a09-a120-407f6580c8c8"
      },
      "outputs": [
        {
          "data": {
            "text/plain": [
              "[-0.14567542786524684,\n",
              " 0.028992119894766844,\n",
              " -0.2658059392757915,\n",
              " 15.500593710459835,\n",
              " -0.15679,\n",
              " -0.5751383360655641,\n",
              " -0.5,\n",
              " -0.7610600150158306,\n",
              " 19.256544264254092,\n",
              " 16.330889837828664,\n",
              " -2.594840781380889,\n",
              " -2.474224227054556,\n",
              " -0.852180077055561,\n",
              " -0.7006457235470309,\n",
              " 12.950534339413846,\n",
              " -2.2842125693118476,\n",
              " -2.776785077874974,\n",
              " -2.6859971955040907,\n",
              " -1.6150456834794744,\n",
              " -1.8485000844551536,\n",
              " 12.096579828480882,\n",
              " -2.7116605133971876,\n",
              " -3.133167873327339,\n",
              " -3.182911142097555]"
            ]
          },
          "execution_count": 79,
          "metadata": {},
          "output_type": "execute_result"
        }
      ],
      "source": [
        "f=[-0.14567542786524684, 0.028992119894766844, -0.2658059392757915, 15.500593710459835, -0.15679, -0.5751383360655641, -0.5, -0.7610600150158306, 19.256544264254092, 16.330889837828664, -2.594840781380889, -2.474224227054556, -0.852180077055561, -0.7006457235470309, 12.950534339413846, -2.2842125693118476, -2.776785077874974, -2.6859971955040907, -1.6150456834794744, -1.8485000844551536, 12.096579828480882, -2.7116605133971876, -3.133167873327339, -3.182911142097555]\n",
        "f"
      ]
    },
    {
      "cell_type": "markdown",
      "metadata": {
        "id": "uZ1QENCug4Ca"
      },
      "source": [
        "## Experiment: Type-1"
      ]
    },
    {
      "cell_type": "code",
      "execution_count": null,
      "metadata": {
        "id": "ovNYu_rZDNfM"
      },
      "outputs": [],
      "source": [
        "import numpy as np\n",
        "import tensorflow as tf\n",
        "\n",
        "# Define the maze\n",
        "maze = np.array([\n",
        "    [1, 1, 1, 1, 1, 1, 1, 1, 1, 1, 1, 1],\n",
        "    [1, 1, 1, 1, 1, 0, 0, 0, 1, 1, 1, 1],\n",
        "    [1, 1, 1, 1, 1, 0, 0, 0, 0, 0, 0, 1],\n",
        "    [1, 1, 1, 1, 1, 0, 0, 0, 0, 0, 0, 1],\n",
        "    [1, 1, 1, 1, 1, 0, 0, 0, 0, 0, 0, 1],\n",
        "    [1, 1, 1, 1, 1, 0, 0, 0, 1, 1, 1, 1],\n",
        "    [1, 1, 1, 1, 1, 0, 0, 0, 1, 1, 1, 1],\n",
        "    [1, 1, 1, 1, 1, 0, 0, 0, 1, 1, 1, 1],\n",
        "    [1, 1, 1, 1, 1, 0, 0, 0, 1, 1, 1, 1],\n",
        "    [1, 1, 1, 1, 1, 0, 0, 0, 1, 1, 1, 1],\n",
        "    [1, 1, 1, 1, 1, 0, 0, 0, 1, 1, 1, 1],\n",
        "    [1, 1, 1, 0, 0, 0, 0, 0, 1, 1, 1, 1],\n",
        "    [1, 1, 1, 0, 0, 0, 0, 0, 1, 1, 1, 1],\n",
        "    [1, 1, 1, 0, 0, 0, 0, 0, 1, 1, 1, 1],\n",
        "    [1, 1, 1, 0, 0, 0, 0, 0, 1, 1, 1, 1],\n",
        "    [1, 1, 1, 0, 0, 0, 0, 0, 0, 0, 0, 1],\n",
        "    [1, 1, 1, 0, 0, 0, 0, 0, 0, 0, 0, 1],\n",
        "    [1, 1, 1, 1, 1, 1, 1, 1, 1, 1, 1, 1]\n",
        "])\n",
        "\n",
        "# Define the Q-network\n",
        "class QNetwork(tf.keras.Model):\n",
        "    def __init__(self, state_size, action_size):\n",
        "        super(QNetwork, self).__init__()\n",
        "        self.dense1 = tf.keras.layers.Dense(32, activation='relu', input_shape=(state_size,))\n",
        "        self.dense2 = tf.keras.layers.Dense(32, activation='relu')\n",
        "        self.output_layer = tf.keras.layers.Dense(action_size, activation='linear')\n",
        "\n",
        "    def call(self, state):\n",
        "        x = self.dense1(state)\n",
        "        x = self.dense2(x)\n",
        "        return self.output_layer(x)\n",
        "\n",
        "# Hyperparameters\n",
        "state_size = 3  # [0, 0, 1]\n",
        "action_size = 3  # 4 possible actions: left, right, up, down\n",
        "learning_rate = 0.001\n",
        "discount_factor = 0.95\n",
        "\n",
        "# Instantiate the Q-network\n",
        "model = QNetwork(state_size, action_size)\n",
        "model.compile(optimizer=tf.keras.optimizers.Adam(learning_rate=learning_rate), loss='mse')\n",
        "\n",
        "# Q-learning training loop\n",
        "epochs = 1000\n",
        "for epoch in range(epochs):\n",
        "    current_state = [0, 0, 1]  # Start at the top-left corner of the maze\n",
        "    done = False\n",
        "    total_reward = 0\n",
        "\n",
        "    while not done:\n",
        "        # Choose an action using epsilon-greedy strategy\n",
        "        epsilon = 0.1\n",
        "        if np.random.rand() < epsilon:\n",
        "            action = np.random.randint(action_size)\n",
        "        else:\n",
        "            q_values = model.predict(np.array([current_state]))\n",
        "            action = np.argmax(q_values)\n",
        "\n",
        "        # Take the chosen action and observe the next state and reward\n",
        "        next_state = np.copy(current_state)\n",
        "        if action == 0:  # Move left\n",
        "            next_state[0] = max(0, current_state[0] - 1)\n",
        "        elif action == 1:  # Move right\n",
        "            next_state[1] = min(1, current_state[1] + 1)\n",
        "        elif action == 2:  # Move up\n",
        "            next_state[2] = max(0, current_state[2] - 1)\n",
        "        elif action == 3:  # Move down\n",
        "            next_state[2] = min(1, current_state[2] + 1)\n",
        "\n",
        "        reward = -1 if maze[next_state[2], next_state[1]] == 0 else -100  # -1 for each step, -100 for hitting an obstacle\n",
        "\n",
        "        # Update the Q-value using the Bellman equation\n",
        "        q_values = model.predict(np.array([current_state]))\n",
        "        next_q_values = model.predict(np.array([next_state]))\n",
        "        q_values[0][action] = reward + discount_factor * np.max(next_q_values)\n",
        "\n",
        "        # Train the model on the current transition\n",
        "        model.train_on_batch(np.array([current_state]), q_values)\n",
        "\n",
        "        total_reward += reward\n",
        "        current_state = next_state\n",
        "\n",
        "        # Check if the episode is done\n",
        "        if maze[current_state[2], current_state[1]] == 1 or current_state == [1, 10, 1]:\n",
        "            done = True\n",
        "\n",
        "    print(f\"Epoch: {epoch + 1}, Total Reward: {total_reward}\")\n"
      ]
    },
    {
      "cell_type": "markdown",
      "metadata": {
        "id": "C_z5rgBE-iuo"
      },
      "source": [
        "## Experiment: Type-2"
      ]
    },
    {
      "cell_type": "code",
      "execution_count": null,
      "metadata": {
        "id": "XPd9qOvV-YH1"
      },
      "outputs": [],
      "source": [
        "import numpy as np\n",
        "import matplotlib.pyplot as plt\n",
        "from IPython.display import clear_output\n",
        "\n",
        "# Define the 2D maze\n",
        "maze = np.array([\n",
        "    [0, 0, 1, 0, 0],\n",
        "    [0, 0, 1, 0, 0],\n",
        "    [0, 0, 0, 0, 0],\n",
        "    [0, 1, 1, 0, 0],\n",
        "    [0, 0, 1, 0, 0]\n",
        "])\n",
        "\n",
        "# Define the maze\n",
        "maze = np.array([\n",
        "    [1, 1, 0, 1],\n",
        "    [1, 1, 0, 0],\n",
        "    [1, 1, 0, 1],\n",
        "    [1, 0, 0, 1],\n",
        "    [1, 0, 0, 0]\n",
        "])\n",
        "source = (1,3)\n",
        "destination = (4,3)\n",
        "\n",
        "# Define Q-learning parameters\n",
        "num_actions = 4  # Up, Down, Left, Right\n",
        "learning_rate = 0.1\n",
        "discount_factor = 0.9\n",
        "exploration_rate = 0.1\n",
        "exploration_rate_decay = 0.87\n",
        "num_episodes = 1000\n",
        "\n",
        "# Initialize Q-values\n",
        "q_values = np.zeros((maze.shape[0], maze.shape[1], num_actions))\n",
        "\n",
        "\n",
        "def display(maze, source, destination, current_position, path=None):\n",
        "    for i in range(len(maze)):\n",
        "        for j in range(len(maze[0])):\n",
        "            if (i, j) == source:\n",
        "                print('S', end=' ')\n",
        "            elif (i, j) == destination:\n",
        "                print('D', end=' ')\n",
        "            elif (i, j) == current_position:\n",
        "                print('C', end=' ')\n",
        "            elif path and (i, j) in path:\n",
        "                print('*', end=' ')  # Mark the path with '*'\n",
        "            elif maze[i][j] == 1:\n",
        "                print('#', end=' ')\n",
        "            else:\n",
        "                print('.', end=' ')\n",
        "        print()\n",
        "# Helper function to visualize the agent's path in the maze\n",
        "def visualize_path(path):\n",
        "    maze_copy = maze.copy()\n",
        "    for step in path:\n",
        "        maze_copy[step[0], step[1]] = 2  # Mark the path with 2\n",
        "    maze_copy[maze_copy == 1] = 9  # Mark walls with 9\n",
        "    maze_copy[maze_copy == 0] = 1  # Mark paths with 1\n",
        "    maze_copy[maze_copy == 2] = 0  # Mark the agent's path with 0\n",
        "\n",
        "    plt.imshow(maze_copy, cmap='viridis', origin='upper')\n",
        "    plt.show()\n",
        "\n",
        "# Q-learning algorithm\n",
        "for episode in range(num_episodes):\n",
        "    # state = (0, 0)  # Starting position\n",
        "    state=source\n",
        "    path = [state]\n",
        "\n",
        "    # while state != (maze.shape[0] - 1, maze.shape[1] - 1):  # Continue until reaching the goal\n",
        "    while state != destination:\n",
        "        # Choose an action using epsilon-greedy strategy\n",
        "        if np.random.rand() < exploration_rate:\n",
        "            action = np.random.choice(num_actions)\n",
        "        else:\n",
        "            action = np.argmax(q_values[state[0], state[1]])\n",
        "\n",
        "        # Perform the chosen action\n",
        "        if action == 0 and state[0] > 0:\n",
        "            new_state = (state[0] - 1, state[1])\n",
        "        elif action == 1 and state[0] < maze.shape[0] - 1:\n",
        "            new_state = (state[0] + 1, state[1])\n",
        "        elif action == 2 and state[1] > 0:\n",
        "            new_state = (state[0], state[1] - 1)\n",
        "        elif action == 3 and state[1] < maze.shape[1] - 1:\n",
        "            new_state = (state[0], state[1] + 1)\n",
        "        else:\n",
        "            new_state = state\n",
        "\n",
        "        # Update Q-value using the Bellman equation\n",
        "        reward = -1 if maze[new_state[0], new_state[1]] == 0 else -5  # Penalize hitting a wall\n",
        "        q_values[state[0], state[1], action] += learning_rate * (\n",
        "                reward + discount_factor * np.max(q_values[new_state[0], new_state[1]]) -\n",
        "                q_values[state[0], state[1], action])\n",
        "\n",
        "        # Move to the new state\n",
        "        state = new_state\n",
        "        path.append(state)\n",
        "        clear_output()\n",
        "\n",
        "    exploration_rate_decay *= exploration_rate_decay\n",
        "    if episode % 100 == 0:\n",
        "        display(maze=maze, path=path, source = (0,0), destination= (maze.shape[0] - 1, maze.shape[1] - 1), current_position=(maze.shape[0] - 1, maze.shape[1] - 1))\n",
        "\n",
        "print(\"Training complete!\")\n",
        "# visualize_path(path)\n",
        "display(maze=maze, path=path, source = (0,0), destination= (maze.shape[0] - 1, maze.shape[1] - 1), current_position=(maze.shape[0] - 1, maze.shape[1] - 1))"
      ]
    },
    {
      "cell_type": "markdown",
      "metadata": {
        "id": "dOe6uazE-dZu"
      },
      "source": [
        "## Using This trained Q network"
      ]
    },
    {
      "cell_type": "code",
      "execution_count": null,
      "metadata": {
        "id": "WLTCx4Vy-bdb"
      },
      "outputs": [],
      "source": [
        "source = (1,3)\n",
        "destination = (4,3)\n",
        "state = source\n",
        "path=[]\n",
        "while state != destination:\n",
        "    action = np.argmax(q_values[state[0], state[1]])\n",
        "    # Perform the chosen action\n",
        "    if action == 0 and state[0] > 0:\n",
        "        new_state = (state[0] - 1, state[1])\n",
        "    elif action == 1 and state[0] < maze.shape[0] - 1:\n",
        "        new_state = (state[0] + 1, state[1])\n",
        "    elif action == 2 and state[1] > 0:\n",
        "        new_state = (state[0], state[1] - 1)\n",
        "    elif action == 3 and state[1] < maze.shape[1] - 1:\n",
        "        new_state = (state[0], state[1] + 1)\n",
        "    else:\n",
        "        new_state = state\n",
        "    # Move to the new state\n",
        "    state = new_state\n",
        "    path.append(state)\n",
        "display(maze=maze, path=path, source = (0,0), destination= (maze.shape[0] - 1, maze.shape[1] - 1), current_position=(maze.shape[0] - 1, maze.shape[1] - 1))"
      ]
    }
  ],
  "metadata": {
    "colab": {
      "provenance": []
    },
    "kernelspec": {
      "display_name": "Python 3",
      "name": "python3"
    },
    "language_info": {
      "name": "python"
    }
  },
  "nbformat": 4,
  "nbformat_minor": 0
}
